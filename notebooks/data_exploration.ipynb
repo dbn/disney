{
 "cells": [
  {
   "cell_type": "code",
   "execution_count": 1,
   "id": "c77cf8b4",
   "metadata": {},
   "outputs": [],
   "source": [
    "# # ChromaDB Querying Guide\n",
    "\n",
    "# This notebook demonstrates how to query ChromaDB for Disney customer reviews using the VectorStoreManager.\n",
    "\n",
    "# ## Overview\n",
    "\n",
    "# ChromaDB is a vector database that stores embeddings of Disney reviews, allowing for semantic search and similarity queries. The VectorStoreManager provides several methods for querying:\n",
    "\n",
    "# - `get_relevant_context()` - Find relevant reviews for a query\n",
    "# - `search_similar()` - Search for similar documents\n",
    "# - `get_collection_stats()` - Get database statistics\n",
    "# - `add_documents()` - Add new documents to the database"
   ]
  },
  {
   "cell_type": "code",
   "execution_count": 5,
   "id": "450403b9-3d13-487d-9131-2938ef339ef4",
   "metadata": {},
   "outputs": [
    {
     "name": "stdout",
     "output_type": "stream",
     "text": [
      "\u001b[2mUsing Python 3.11.13 environment at: /app/.venv\u001b[0m\n",
      "\u001b[2K\u001b[2mResolved \u001b[1m85 packages\u001b[0m \u001b[2min 4.89s\u001b[0m\u001b[0m                                        \u001b[0m\n",
      "\u001b[2K\u001b[2mPrepared \u001b[1m45 packages\u001b[0m \u001b[2min 23.22s\u001b[0m\u001b[0m                                           \n",
      "\u001b[2K\u001b[2mInstalled \u001b[1m52 packages\u001b[0m \u001b[2min 44ms\u001b[0m\u001b[0m                               \u001b[0m\n",
      " \u001b[32m+\u001b[39m \u001b[1mbackoff\u001b[0m\u001b[2m==2.2.1\u001b[0m\n",
      " \u001b[32m+\u001b[39m \u001b[1mbcrypt\u001b[0m\u001b[2m==4.3.0\u001b[0m\n",
      " \u001b[32m+\u001b[39m \u001b[1mbuild\u001b[0m\u001b[2m==1.3.0\u001b[0m\n",
      " \u001b[32m+\u001b[39m \u001b[1mcachetools\u001b[0m\u001b[2m==5.5.2\u001b[0m\n",
      " \u001b[32m+\u001b[39m \u001b[1mchromadb\u001b[0m\u001b[2m==1.1.0\u001b[0m\n",
      " \u001b[32m+\u001b[39m \u001b[1mclick\u001b[0m\u001b[2m==8.3.0\u001b[0m\n",
      " \u001b[32m+\u001b[39m \u001b[1mcoloredlogs\u001b[0m\u001b[2m==15.0.1\u001b[0m\n",
      " \u001b[32m+\u001b[39m \u001b[1mdurationpy\u001b[0m\u001b[2m==0.10\u001b[0m\n",
      " \u001b[32m+\u001b[39m \u001b[1mflatbuffers\u001b[0m\u001b[2m==25.2.10\u001b[0m\n",
      " \u001b[32m+\u001b[39m \u001b[1mgoogle-auth\u001b[0m\u001b[2m==2.40.3\u001b[0m\n",
      " \u001b[32m+\u001b[39m \u001b[1mgoogleapis-common-protos\u001b[0m\u001b[2m==1.70.0\u001b[0m\n",
      " \u001b[32m+\u001b[39m \u001b[1mgrpcio\u001b[0m\u001b[2m==1.75.0\u001b[0m\n",
      " \u001b[32m+\u001b[39m \u001b[1mhttptools\u001b[0m\u001b[2m==0.6.4\u001b[0m\n",
      " \u001b[32m+\u001b[39m \u001b[1mhumanfriendly\u001b[0m\u001b[2m==10.0\u001b[0m\n",
      " \u001b[32m+\u001b[39m \u001b[1mimportlib-metadata\u001b[0m\u001b[2m==8.7.0\u001b[0m\n",
      " \u001b[32m+\u001b[39m \u001b[1mimportlib-resources\u001b[0m\u001b[2m==6.5.2\u001b[0m\n",
      " \u001b[32m+\u001b[39m \u001b[1mjsonschema\u001b[0m\u001b[2m==4.25.1\u001b[0m\n",
      " \u001b[32m+\u001b[39m \u001b[1mjsonschema-specifications\u001b[0m\u001b[2m==2025.9.1\u001b[0m\n",
      " \u001b[32m+\u001b[39m \u001b[1mkubernetes\u001b[0m\u001b[2m==33.1.0\u001b[0m\n",
      " \u001b[32m+\u001b[39m \u001b[1mmarkdown-it-py\u001b[0m\u001b[2m==4.0.0\u001b[0m\n",
      " \u001b[32m+\u001b[39m \u001b[1mmdurl\u001b[0m\u001b[2m==0.1.2\u001b[0m\n",
      " \u001b[32m+\u001b[39m \u001b[1mmmh3\u001b[0m\u001b[2m==5.2.0\u001b[0m\n",
      " \u001b[32m+\u001b[39m \u001b[1moauthlib\u001b[0m\u001b[2m==3.3.1\u001b[0m\n",
      " \u001b[32m+\u001b[39m \u001b[1monnxruntime\u001b[0m\u001b[2m==1.22.1\u001b[0m\n",
      " \u001b[32m+\u001b[39m \u001b[1mopentelemetry-api\u001b[0m\u001b[2m==1.37.0\u001b[0m\n",
      " \u001b[32m+\u001b[39m \u001b[1mopentelemetry-exporter-otlp-proto-common\u001b[0m\u001b[2m==1.37.0\u001b[0m\n",
      " \u001b[32m+\u001b[39m \u001b[1mopentelemetry-exporter-otlp-proto-grpc\u001b[0m\u001b[2m==1.37.0\u001b[0m\n",
      " \u001b[32m+\u001b[39m \u001b[1mopentelemetry-proto\u001b[0m\u001b[2m==1.37.0\u001b[0m\n",
      " \u001b[32m+\u001b[39m \u001b[1mopentelemetry-sdk\u001b[0m\u001b[2m==1.37.0\u001b[0m\n",
      " \u001b[32m+\u001b[39m \u001b[1mopentelemetry-semantic-conventions\u001b[0m\u001b[2m==0.58b0\u001b[0m\n",
      " \u001b[32m+\u001b[39m \u001b[1moverrides\u001b[0m\u001b[2m==7.7.0\u001b[0m\n",
      " \u001b[32m+\u001b[39m \u001b[1mposthog\u001b[0m\u001b[2m==5.4.0\u001b[0m\n",
      " \u001b[32m+\u001b[39m \u001b[1mprotobuf\u001b[0m\u001b[2m==6.32.1\u001b[0m\n",
      " \u001b[32m+\u001b[39m \u001b[1mpyasn1\u001b[0m\u001b[2m==0.6.1\u001b[0m\n",
      " \u001b[32m+\u001b[39m \u001b[1mpyasn1-modules\u001b[0m\u001b[2m==0.4.2\u001b[0m\n",
      " \u001b[32m+\u001b[39m \u001b[1mpybase64\u001b[0m\u001b[2m==1.4.2\u001b[0m\n",
      " \u001b[32m+\u001b[39m \u001b[1mpygments\u001b[0m\u001b[2m==2.19.2\u001b[0m\n",
      " \u001b[32m+\u001b[39m \u001b[1mpypika\u001b[0m\u001b[2m==0.48.9\u001b[0m\n",
      " \u001b[32m+\u001b[39m \u001b[1mpyproject-hooks\u001b[0m\u001b[2m==1.2.0\u001b[0m\n",
      " \u001b[32m+\u001b[39m \u001b[1mreferencing\u001b[0m\u001b[2m==0.36.2\u001b[0m\n",
      " \u001b[32m+\u001b[39m \u001b[1mrequests-oauthlib\u001b[0m\u001b[2m==2.0.0\u001b[0m\n",
      " \u001b[32m+\u001b[39m \u001b[1mrich\u001b[0m\u001b[2m==14.1.0\u001b[0m\n",
      " \u001b[32m+\u001b[39m \u001b[1mrpds-py\u001b[0m\u001b[2m==0.27.1\u001b[0m\n",
      " \u001b[32m+\u001b[39m \u001b[1mrsa\u001b[0m\u001b[2m==4.9.1\u001b[0m\n",
      " \u001b[32m+\u001b[39m \u001b[1mshellingham\u001b[0m\u001b[2m==1.5.4\u001b[0m\n",
      " \u001b[32m+\u001b[39m \u001b[1mtyper\u001b[0m\u001b[2m==0.19.2\u001b[0m\n",
      " \u001b[32m+\u001b[39m \u001b[1muvicorn\u001b[0m\u001b[2m==0.37.0\u001b[0m\n",
      " \u001b[32m+\u001b[39m \u001b[1muvloop\u001b[0m\u001b[2m==0.21.0\u001b[0m\n",
      " \u001b[32m+\u001b[39m \u001b[1mwatchfiles\u001b[0m\u001b[2m==1.1.0\u001b[0m\n",
      " \u001b[32m+\u001b[39m \u001b[1mwebsocket-client\u001b[0m\u001b[2m==1.8.0\u001b[0m\n",
      " \u001b[32m+\u001b[39m \u001b[1mwebsockets\u001b[0m\u001b[2m==15.0.1\u001b[0m\n",
      " \u001b[32m+\u001b[39m \u001b[1mzipp\u001b[0m\u001b[2m==3.23.0\u001b[0m\n"
     ]
    }
   ],
   "source": [
    "!uv pip install chromadb"
   ]
  },
  {
   "cell_type": "code",
   "execution_count": 6,
   "id": "ccb614a3",
   "metadata": {},
   "outputs": [
    {
     "name": "stderr",
     "output_type": "stream",
     "text": [
      "/app/.venv/lib/python3.11/site-packages/tqdm/auto.py:21: TqdmWarning: IProgress not found. Please update jupyter and ipywidgets. See https://ipywidgets.readthedocs.io/en/stable/user_install.html\n",
      "  from .autonotebook import tqdm as notebook_tqdm\n"
     ]
    },
    {
     "name": "stdout",
     "output_type": "stream",
     "text": [
      "✅ Imports successful!\n"
     ]
    }
   ],
   "source": [
    "# Import required libraries\n",
    "import pandas as pd\n",
    "import asyncio\n",
    "from typing import List, Dict, Any\n",
    "import sys\n",
    "import os\n",
    "\n",
    "# Add src to path for imports\n",
    "sys.path.append('/app/src')\n",
    "\n",
    "# Import our VectorStoreManager\n",
    "from disney.rag.vector_store_manager import VectorStoreManager\n",
    "from disney.shared.config import settings\n",
    "\n",
    "print(\"✅ Imports successful!\")\n"
   ]
  },
  {
   "cell_type": "markdown",
   "id": "6273c9e4",
   "metadata": {},
   "source": [
    "## 1. Initialize VectorStoreManager\n",
    "\n",
    "Connect to ChromaDB and initialize the vector store manager.\n"
   ]
  },
  {
   "cell_type": "code",
   "execution_count": 14,
   "id": "96fab581",
   "metadata": {},
   "outputs": [
    {
     "name": "stdout",
     "output_type": "stream",
     "text": [
      "2025-09-23 20:17:27 - vector-store-manager - INFO - Vector store initialized with collection: disney_reviews\n",
      "2025-09-23 20:17:27 - vector-store-manager - INFO - VectorStoreManager initialized with ChromaDB at chromadb:8000\n"
     ]
    },
    {
     "name": "stderr",
     "output_type": "stream",
     "text": [
      "/app/src/disney/rag/vector_store_manager.py:58: LangChainDeprecationWarning: The class `Chroma` was deprecated in LangChain 0.2.9 and will be removed in 1.0. An updated version of the class exists in the :class:`~langchain-chroma package and should be used instead. To use it run `pip install -U :class:`~langchain-chroma` and import as `from :class:`~langchain_chroma import Chroma``.\n",
      "  self.vector_store = Chroma(\n"
     ]
    }
   ],
   "source": [
    "from disney.shared.config import settings\n",
    "\n",
    "vector_manager = VectorStoreManager(chroma_host = \"chromadb\" , chroma_port = 8000)\n",
    "# print(vector_manager.chroma_host)\n",
    "# print(f\"✅ Connected to ChromaDB at {vector_manager.chroma_host}:{vector_manager.chroma_port}\")\n",
    "# print(f\"📚 Collection: {vector_manager.collection_name}\")\n"
   ]
  },
  {
   "cell_type": "markdown",
   "id": "7711b25d",
   "metadata": {},
   "source": [
    "## 2. Get Collection Statistics\n",
    "\n",
    "Check what data is available in the database.\n"
   ]
  },
  {
   "cell_type": "code",
   "execution_count": 15,
   "id": "68dd7eb8",
   "metadata": {},
   "outputs": [
    {
     "name": "stdout",
     "output_type": "stream",
     "text": [
      "📊 Collection Statistics:\n",
      "  collection_name: disney_reviews\n",
      "  document_count: 87512\n",
      "  last_updated: 2025-09-23T20:17:35.957087\n",
      "  embedding_model: all-MiniLM-L6-v2\n"
     ]
    }
   ],
   "source": [
    "# Get collection statistics\n",
    "async def get_stats():\n",
    "    stats = await vector_manager.get_collection_stats()\n",
    "    return stats\n",
    "\n",
    "# Run the async function\n",
    "stats = await get_stats()\n",
    "print(\"📊 Collection Statistics:\")\n",
    "for key, value in stats.items():\n",
    "    print(f\"  {key}: {value}\")\n"
   ]
  },
  {
   "cell_type": "markdown",
   "id": "a1e23083",
   "metadata": {},
   "source": [
    "## 3. Basic Query - Find Relevant Context\n",
    "\n",
    "Search for reviews related to a specific question or topic.\n"
   ]
  },
  {
   "cell_type": "code",
   "execution_count": 17,
   "id": "30c09f29",
   "metadata": {},
   "outputs": [
    {
     "name": "stdout",
     "output_type": "stream",
     "text": [
      "🔍 Testing basic queries:\n",
      "\n",
      "1. Query: What do customers say about Space Mountain?\n",
      "2025-09-23 20:18:17 - vector-store-manager - INFO - Retrieving context for query: What do customers say about Space Mountain?...\n",
      "2025-09-23 20:18:17 - vector-store-manager - INFO - Retrieved 3 relevant documents\n",
      "   Found 3 relevant reviews\n",
      "   1. Relevance: 0.379\n",
      "      Content: It's cheesy and all, but it really is magical. The staff are warm and friendly in the midst of chaos...\n",
      "      Metadata: {'year': '2011', 'rating': 5, 'branch': 'Disneyland_California', 'original_index': 27778}\n",
      "   2. Relevance: 0.379\n",
      "      Content: It's cheesy and all, but it really is magical. The staff are warm and friendly in the midst of chaos...\n",
      "      Metadata: {'branch': 'Disneyland_California', 'year': '2011', 'original_index': 27778, 'rating': 5}\n",
      "\n",
      "2. Query: How are the wait times at Disneyland?\n",
      "2025-09-23 20:18:17 - vector-store-manager - INFO - Retrieving context for query: How are the wait times at Disneyland?...\n",
      "2025-09-23 20:18:17 - vector-store-manager - INFO - Retrieved 3 relevant documents\n",
      "   Found 3 relevant reviews\n",
      "   1. Relevance: 0.645\n",
      "      Content: This was our 3rd trip to Disneyland and every time is just as magical as our first visit. The longes...\n",
      "      Metadata: {'rating': 5, 'year': '2017', 'branch': 'Disneyland_California', 'original_index': 13050}\n",
      "   2. Relevance: 0.645\n",
      "      Content: This was our 3rd trip to Disneyland and every time is just as magical as our first visit. The longes...\n",
      "      Metadata: {'rating': 5, 'branch': 'Disneyland_California', 'original_index': 13050, 'year': '2017'}\n",
      "\n",
      "3. Query: What do people think about the food?\n",
      "2025-09-23 20:18:17 - vector-store-manager - INFO - Retrieving context for query: What do people think about the food?...\n",
      "2025-09-23 20:18:17 - vector-store-manager - INFO - Retrieved 3 relevant documents\n",
      "   Found 3 relevant reviews\n",
      "   1. Relevance: 0.160\n",
      "      Content: It's fun but it's just not worth all the grief: it's SO expensive to eat anything (3 x hot dog and c...\n",
      "      Metadata: {'rating': 3, 'original_index': 35069, 'year': '2015', 'branch': 'Disneyland_Paris'}\n",
      "   2. Relevance: 0.160\n",
      "      Content: It's fun but it's just not worth all the grief: it's SO expensive to eat anything (3 x hot dog and c...\n",
      "      Metadata: {'year': '2015', 'rating': 3, 'branch': 'Disneyland_Paris', 'original_index': 35069}\n",
      "\n",
      "4. Query: Customer complaints about cleanliness\n",
      "2025-09-23 20:18:17 - vector-store-manager - INFO - Retrieving context for query: Customer complaints about cleanliness...\n",
      "2025-09-23 20:18:17 - vector-store-manager - INFO - Retrieved 3 relevant documents\n",
      "   Found 3 relevant reviews\n",
      "   1. Relevance: 0.127\n",
      "      Content: Not much has changed since my last visit 14 years ago and overall the visit was enjoyable. Few clean...\n",
      "      Metadata: {'rating': 4, 'original_index': 22382, 'branch': 'Disneyland_California', 'year': '2014'}\n",
      "   2. Relevance: 0.127\n",
      "      Content: Not much has changed since my last visit 14 years ago and overall the visit was enjoyable. Few clean...\n",
      "      Metadata: {'year': '2014', 'original_index': 22382, 'rating': 4, 'branch': 'Disneyland_California'}\n"
     ]
    }
   ],
   "source": [
    "# Basic query function\n",
    "async def search_reviews(query: str, n_results: int = 5):\n",
    "    \"\"\"Search for relevant reviews.\"\"\"\n",
    "    results = await vector_manager.get_relevant_context(\n",
    "        query=query,\n",
    "        n_results=n_results,\n",
    "        similarity_threshold=0.07,\n",
    "        max_context_length=2000\n",
    "    )\n",
    "    return results\n",
    "\n",
    "# Example queries\n",
    "queries = [\n",
    "    \"What do customers say about Space Mountain?\",\n",
    "    \"How are the wait times at Disneyland?\",\n",
    "    \"What do people think about the food?\",\n",
    "    \"Customer complaints about cleanliness\"\n",
    "]\n",
    "\n",
    "print(\"🔍 Testing basic queries:\")\n",
    "for i, query in enumerate(queries, 1):\n",
    "    print(f\"\\n{i}. Query: {query}\")\n",
    "    results = await search_reviews(query, n_results=3)\n",
    "    print(f\"   Found {len(results)} relevant reviews\")\n",
    "    \n",
    "    for j, result in enumerate(results[:2], 1):  # Show first 2 results\n",
    "        print(f\"   {j}. Relevance: {result.get('relevance_score', 0):.3f}\")\n",
    "        print(f\"      Content: {result.get('content', '')[:100]}...\")\n",
    "        print(f\"      Metadata: {result.get('metadata', {})}\")\n"
   ]
  },
  {
   "cell_type": "markdown",
   "id": "dd2fa99b",
   "metadata": {},
   "source": [
    "## 4. Similarity Search\n",
    "\n",
    "Find documents similar to a specific text or review.\n"
   ]
  },
  {
   "cell_type": "code",
   "execution_count": null,
   "id": "22edecd0",
   "metadata": {},
   "outputs": [],
   "source": [
    "# Similarity search function\n",
    "async def find_similar(text: str, n_results: int = 5):\n",
    "    \"\"\"Find documents similar to the given text.\"\"\"\n",
    "    results = await vector_manager.search_similar(\n",
    "        query_text=text,\n",
    "        n_results=n_results,\n",
    "        similarity_threshold=0.6\n",
    "    )\n",
    "    return results\n",
    "\n",
    "# Example similarity searches\n",
    "similarity_queries = [\n",
    "    \"The ride was amazing and worth the wait\",\n",
    "    \"Long lines and expensive food\",\n",
    "    \"Great experience for families with kids\"\n",
    "]\n",
    "\n",
    "print(\"🔍 Testing similarity search:\")\n",
    "for i, query in enumerate(similarity_queries, 1):\n",
    "    print(f\"\\n{i}. Similar to: '{query}'\")\n",
    "    results = await find_similar(query, n_results=3)\n",
    "    print(f\"   Found {len(results)} similar reviews\")\n",
    "    \n",
    "    for j, result in enumerate(results[:2], 1):\n",
    "        print(f\"   {j}. Similarity: {result.get('similarity_score', 0):.3f}\")\n",
    "        print(f\"      Content: {result.get('content', '')[:100]}...\")\n"
   ]
  },
  {
   "cell_type": "markdown",
   "id": "7cd64f25",
   "metadata": {},
   "source": [
    "## 5. Export Results to DataFrame\n",
    "\n",
    "Convert query results to pandas DataFrame for further analysis.\n"
   ]
  },
  {
   "cell_type": "code",
   "execution_count": null,
   "id": "1cabe061",
   "metadata": {},
   "outputs": [],
   "source": [
    "# Export function\n",
    "async def export_query_results(query: str, n_results: int = 50) -> pd.DataFrame:\n",
    "    \"\"\"Export query results to a pandas DataFrame.\"\"\"\n",
    "    results = await search_reviews(query, n_results=n_results)\n",
    "    \n",
    "    if not results:\n",
    "        return pd.DataFrame()\n",
    "    \n",
    "    # Flatten the results\n",
    "    flattened = []\n",
    "    for result in results:\n",
    "        row = {\n",
    "            'content': result.get('content', ''),\n",
    "            'relevance_score': result.get('relevance_score', 0),\n",
    "            'id': result.get('id', ''),\n",
    "        }\n",
    "        \n",
    "        # Add metadata fields\n",
    "        metadata = result.get('metadata', {})\n",
    "        for key, value in metadata.items():\n",
    "            row[f'metadata_{key}'] = value\n",
    "        \n",
    "        flattened.append(row)\n",
    "    \n",
    "    return pd.DataFrame(flattened)\n",
    "\n",
    "# Export results for analysis\n",
    "print(\"📊 Exporting query results to DataFrame:\")\n",
    "\n",
    "# Export Space Mountain reviews\n",
    "space_mountain_df = await export_query_results(\"Space Mountain\", n_results=20)\n",
    "print(f\"\\nSpace Mountain reviews: {len(space_mountain_df)} rows\")\n",
    "if not space_mountain_df.empty:\n",
    "    print(\"\\nColumns:\", space_mountain_df.columns.tolist())\n",
    "    print(\"\\nFirst few rows:\")\n",
    "    print(space_mountain_df[['content', 'relevance_score', 'metadata_rating']].head())\n",
    "    \n",
    "    # Basic statistics\n",
    "    if 'metadata_rating' in space_mountain_df.columns:\n",
    "        print(f\"\\nRating statistics:\")\n",
    "        print(space_mountain_df['metadata_rating'].describe())\n",
    "        print(f\"\\nRating distribution:\")\n",
    "        print(space_mountain_df['metadata_rating'].value_counts().sort_index())\n"
   ]
  },
  {
   "cell_type": "markdown",
   "id": "d76b58b1",
   "metadata": {},
   "source": [
    "## Summary\n",
    "\n",
    "This notebook demonstrates various ways to query ChromaDB:\n",
    "\n",
    "1. **Basic queries** - Find relevant reviews for any topic\n",
    "2. **Similarity search** - Find documents similar to specific text\n",
    "3. **Data export** - Convert results to pandas DataFrame\n",
    "\n",
    "### Key Methods:\n",
    "- `get_relevant_context()` - Main search method\n",
    "- `search_similar()` - Similarity search\n",
    "- `get_collection_stats()` - Database statistics\n",
    "\n",
    "### Parameters:\n",
    "- `query` - Search text\n",
    "- `n_results` - Number of results to return\n",
    "- `similarity_threshold` - Minimum similarity score (0-1)\n",
    "- `max_context_length` - Maximum total context length\n",
    "\n",
    "### Next Steps:\n",
    "- Experiment with different queries\n",
    "- Try different similarity thresholds\n",
    "- Create your own analysis functions\n",
    "- Export data for visualization\n"
   ]
  },
  {
   "cell_type": "code",
   "execution_count": null,
   "id": "6aa9e5cf",
   "metadata": {},
   "outputs": [],
   "source": []
  }
 ],
 "metadata": {
  "kernelspec": {
   "display_name": "Python 3 (ipykernel)",
   "language": "python",
   "name": "python3"
  },
  "language_info": {
   "codemirror_mode": {
    "name": "ipython",
    "version": 3
   },
   "file_extension": ".py",
   "mimetype": "text/x-python",
   "name": "python",
   "nbconvert_exporter": "python",
   "pygments_lexer": "ipython3",
   "version": "3.11.13"
  }
 },
 "nbformat": 4,
 "nbformat_minor": 5
}
